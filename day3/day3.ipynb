{
 "cells": [
  {
   "cell_type": "code",
   "execution_count": null,
   "id": "9dec1722",
   "metadata": {},
   "outputs": [],
   "source": [
    "lines = []\n",
    "\n",
    "with open('input.txt') as file:\n",
    "    for line in file:\n",
    "        print(line.rstrip())\n",
    "        lines.append(line.rstrip())"
   ]
  },
  {
   "cell_type": "code",
   "execution_count": null,
   "id": "c34a39c4",
   "metadata": {},
   "outputs": [],
   "source": [
    "characters = []\n",
    "\n",
    "for line in lines:\n",
    "    length = len(line)\n",
    "    comp1 = line[slice(0, length//2)]\n",
    "    comp2 = line[slice(length//2, length)]\n",
    "    comp1 = ''.join(set(comp1))\n",
    "    comp2 = ''.join(set(comp2))\n",
    "    for s in comp1:\n",
    "        if s in comp2:\n",
    "            characters.append(s)"
   ]
  },
  {
   "cell_type": "code",
   "execution_count": null,
   "id": "4d60b34c",
   "metadata": {},
   "outputs": [],
   "source": [
    "len(lines) - len(characters)"
   ]
  },
  {
   "cell_type": "code",
   "execution_count": null,
   "id": "4df284b6",
   "metadata": {},
   "outputs": [],
   "source": [
    "characters"
   ]
  },
  {
   "cell_type": "code",
   "execution_count": null,
   "id": "74b77093",
   "metadata": {},
   "outputs": [],
   "source": [
    "from string import ascii_lowercase\n",
    "\n",
    "LETTERS = {letter: str(index) for index, letter in enumerate(ascii_lowercase, start=1)} \n",
    "\n",
    "text = ''.join(characters)\n",
    "\n",
    "scores = []\n",
    "\n",
    "for character in text:\n",
    "    if character.islower():\n",
    "        output = int(LETTERS.get(character))\n",
    "        print(output)\n",
    "    else:\n",
    "        character_lower = character.lower()\n",
    "        output = int(LETTERS.get(character_lower))+26\n",
    "        print(output)\n",
    "    scores.append(output)"
   ]
  },
  {
   "cell_type": "code",
   "execution_count": null,
   "id": "055c20bd",
   "metadata": {},
   "outputs": [],
   "source": [
    "scores"
   ]
  },
  {
   "cell_type": "code",
   "execution_count": null,
   "id": "642b0f1e",
   "metadata": {},
   "outputs": [],
   "source": [
    "sum(scores)"
   ]
  },
  {
   "cell_type": "markdown",
   "id": "dfa4a63d",
   "metadata": {},
   "source": [
    "# Part 2"
   ]
  },
  {
   "cell_type": "code",
   "execution_count": null,
   "id": "7b4a4362",
   "metadata": {},
   "outputs": [],
   "source": [
    "def split(list_a, chunk_size):\n",
    "\n",
    "  for i in range(0, len(list_a), chunk_size):\n",
    "    yield list_a[i:i + chunk_size]\n",
    "\n",
    "chunk_size = 3\n",
    "elf_groups = list(split(lines, chunk_size))\n",
    "\n",
    "elf_groups"
   ]
  },
  {
   "cell_type": "code",
   "execution_count": null,
   "id": "b1d53e31",
   "metadata": {},
   "outputs": [],
   "source": [
    "new_groups = []\n",
    "for group in elf_groups:\n",
    "    group = [''.join(set(elf)) for elf in group]\n",
    "    new_groups.append(group)\n",
    "    "
   ]
  },
  {
   "cell_type": "code",
   "execution_count": null,
   "id": "bbca99fd",
   "metadata": {},
   "outputs": [],
   "source": [
    "new_groups"
   ]
  },
  {
   "cell_type": "code",
   "execution_count": null,
   "id": "7445adc1",
   "metadata": {},
   "outputs": [],
   "source": [
    "badges = []\n",
    "for group in new_groups:\n",
    "    for s in group[0]:\n",
    "        if (s in group[1]) & (s in group[2]):\n",
    "            badges.append(s)"
   ]
  },
  {
   "cell_type": "code",
   "execution_count": null,
   "id": "38ea56cb",
   "metadata": {},
   "outputs": [],
   "source": [
    "len(badges) - len(new_groups)"
   ]
  },
  {
   "cell_type": "code",
   "execution_count": null,
   "id": "5f57636a",
   "metadata": {},
   "outputs": [],
   "source": [
    "badges"
   ]
  },
  {
   "cell_type": "code",
   "execution_count": null,
   "id": "b40b7b87",
   "metadata": {},
   "outputs": [],
   "source": [
    "text = ''.join(badges)\n",
    "\n",
    "scores = []\n",
    "\n",
    "for character in text:\n",
    "    if character.islower():\n",
    "        output = int(LETTERS.get(character))\n",
    "        print(output)\n",
    "    else:\n",
    "        character_lower = character.lower()\n",
    "        output = int(LETTERS.get(character_lower))+26\n",
    "        print(output)\n",
    "    scores.append(output)"
   ]
  },
  {
   "cell_type": "code",
   "execution_count": null,
   "id": "1bd99ef1",
   "metadata": {},
   "outputs": [],
   "source": [
    "sum(scores)"
   ]
  },
  {
   "cell_type": "code",
   "execution_count": null,
   "id": "6786eaef",
   "metadata": {},
   "outputs": [],
   "source": []
  }
 ],
 "metadata": {
  "kernelspec": {
   "display_name": "Python 3 (ipykernel)",
   "language": "python",
   "name": "python3"
  },
  "language_info": {
   "codemirror_mode": {
    "name": "ipython",
    "version": 3
   },
   "file_extension": ".py",
   "mimetype": "text/x-python",
   "name": "python",
   "nbconvert_exporter": "python",
   "pygments_lexer": "ipython3",
   "version": "3.10.0"
  }
 },
 "nbformat": 4,
 "nbformat_minor": 5
}
